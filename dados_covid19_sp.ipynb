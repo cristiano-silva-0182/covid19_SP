{
 "cells": [
  {
   "cell_type": "code",
   "execution_count": 23,
   "metadata": {},
   "outputs": [],
   "source": [
    "import pandas as pd\n",
    "import datetime as dt\n",
    "\n",
    "url_municipios = 'https://raw.githubusercontent.com/cristiano-silva-0182/bandeiras/main/municipios_SP.csv'\n",
    "url_dados_SEADE = 'https://raw.githubusercontent.com/seade-R/dados-covid-sp/master/data/dados_covid_sp.csv'\n",
    "\n",
    "#Tabela calendário\n",
    "datas = pd.DataFrame(pd.date_range('2020-02-25',dt.datetime.today()))\n",
    "datas = datas.rename({0:'dt'}, axis=1)\n",
    "\n",
    "#Carga dados SEADE\n",
    "_mapcol_seade = ['codigo_ibge','datahora','casos_novos','obitos_novos' ]\n",
    "df_seade = pd.DataFrame(pd.read_csv(url_dados_SEADE,delimiter=';',low_memory=False))[_mapcol_seade]\n",
    "df_seade['datahora'] = df_seade['datahora'].astype('datetime64[ns]')"
   ]
  },
  {
   "cell_type": "code",
   "execution_count": 27,
   "metadata": {},
   "outputs": [],
   "source": [
    "#Preparação do df base\n",
    "colunas_dados_mun = ['mun_id','drs_desc','mun_desc' ]\n",
    "\n",
    "df_mun_sp = pd.DataFrame(pd.read_csv(url_municipios,delimiter=';'))[colunas_dados_mun]\n",
    "df_mun_sp = df_mun_sp.loc[df_mun_sp.mun_id != 1302603]\n",
    "\n",
    "\n",
    "#base = df_mun_sp\n",
    "_mapcols = ['data','mun_id','drs_desc','mun_desc','casos_novos','obitos_novos']\n",
    "frames = []\n",
    "\n",
    "for i in datas.values:\n",
    "    temp = df_mun_sp.copy()\n",
    "    temp['data'] = i[0]\n",
    "    frames.append(temp)\n",
    "\n",
    "df_mun_sp=pd.concat(frames, ignore_index=True).merge(df_seade, left_on= ['mun_id','data'],right_on= ['codigo_ibge','datahora'],how='right')[_mapcols]"
   ]
  }
 ],
 "metadata": {
  "kernelspec": {
   "display_name": "Python 3.9.12 ('base')",
   "language": "python",
   "name": "python3"
  },
  "language_info": {
   "codemirror_mode": {
    "name": "ipython",
    "version": 3
   },
   "file_extension": ".py",
   "mimetype": "text/x-python",
   "name": "python",
   "nbconvert_exporter": "python",
   "pygments_lexer": "ipython3",
   "version": "3.9.12"
  },
  "orig_nbformat": 4,
  "vscode": {
   "interpreter": {
    "hash": "ba4fb6d514434125b6aea5eb7aef742b3a0cd1e36ab2d6e354ab9717100b4a00"
   }
  }
 },
 "nbformat": 4,
 "nbformat_minor": 2
}
